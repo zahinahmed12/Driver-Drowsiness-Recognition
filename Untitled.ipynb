{
 "cells": [
  {
   "cell_type": "code",
   "execution_count": 1,
   "id": "dbc7d569",
   "metadata": {},
   "outputs": [],
   "source": [
    "import os\n",
    "import numpy as np\n",
    "import pandas as pd\n",
    "from PIL import Image\n",
    "import tensorflow as tf\n",
    "from keras.applications.resnet import ResNet50\n",
    "from keras_preprocessing.image import ImageDataGenerator\n",
    "from sklearn.metrics import classification_report, confusion_matrix\n",
    "np.random.seed(4)\n"
   ]
  },
  {
   "cell_type": "code",
   "execution_count": 5,
   "id": "3f2cbc90",
   "metadata": {},
   "outputs": [],
   "source": [
    "# rename files\n",
    "# # get the files in the dataset_new/train/ny/yawn/ folder\n",
    "# for i in os.listdir('./dataset_new/test/ny/yawn/'):\n",
    "#     # get the path of the file\n",
    "#     path = './dataset_new/test/ny/yawn/' + i\n",
    "#     # get the name of the file\n",
    "#     name = i.split('.')[0]\n",
    "#     # get the path of the destination folder\n",
    "#     dest = './dataset_new/test/ny/'\n",
    "#     # # rename the file\n",
    "#     os.rename(path, dest + '1_' + name + '.jpg')"
   ]
  },
  {
   "cell_type": "code",
   "execution_count": 6,
   "id": "9d7124d4",
   "metadata": {},
   "outputs": [],
   "source": [
    "def prepare_df(data_type):\n",
    "    X = []\n",
    "    y = []\n",
    "    path1 = './dataset_new/' + data_type + '/ny'\n",
    "    for i in os.listdir(path1):\n",
    "        # Image\n",
    "        X.append(i)\n",
    "        # Label\n",
    "        y.append(i.split('_')[0])\n",
    "    X = np.array(X)\n",
    "    y = np.array(y)\n",
    "    df = pd.DataFrame()\n",
    "    df['filename'] = X\n",
    "    df['label'] = y\n",
    "    # print(df['filename'].head(20))\n",
    "    return df"
   ]
  },
  {
   "cell_type": "code",
   "execution_count": 7,
   "id": "03dfa78d",
   "metadata": {},
   "outputs": [],
   "source": [
    "def get_datagen():\n",
    "\n",
    "    datagen = ImageDataGenerator(\n",
    "        rescale=1.0/255.0,\n",
    "        rotation_range=20,\n",
    "        zoom_range=0.2,\n",
    "        horizontal_flip=True,\n",
    "    )\n",
    "    return datagen"
   ]
  },
  {
   "cell_type": "code",
   "execution_count": 8,
   "id": "fad41ef2",
   "metadata": {},
   "outputs": [],
   "source": [
    "def get_data_flow(datagen, df, folder):\n",
    "    path = './dataset_new/' + folder + '/ny/'\n",
    "    d_generator = datagen.flow_from_dataframe(\n",
    "        df,\n",
    "        directory=path,\n",
    "        x_col='filename',\n",
    "        y_col='label',\n",
    "        class_mode='binary',\n",
    "        target_size=(256, 256),\n",
    "    )\n",
    "    return d_generator"
   ]
  },
  {
   "cell_type": "code",
   "execution_count": 9,
   "id": "ff986748",
   "metadata": {},
   "outputs": [],
   "source": [
    "def get_model():\n",
    "\n",
    "    feature_extractor = ResNet50(weights='imagenet',\n",
    "                                 input_shape=(256, 256, 3),\n",
    "                                 include_top=False)\n",
    "\n",
    "    feature_extractor.trainable = False\n",
    "\n",
    "    input_ = tf.keras.Input(shape=(256, 256, 3))\n",
    "\n",
    "    x = feature_extractor(input_, training=False)\n",
    "\n",
    "    x = tf.keras.layers.GlobalAveragePooling2D()(x)\n",
    "\n",
    "    output_ = tf.keras.layers.Dense(1, activation='sigmoid')(x)\n",
    "\n",
    "    model = tf.keras.Model(input_, output_)\n",
    "\n",
    "    model.compile(optimizer='adam',\n",
    "                  loss='binary_crossentropy',\n",
    "                  metrics=['accuracy'])\n",
    "\n",
    "    model.summary()\n",
    "    return model"
   ]
  },
  {
   "cell_type": "code",
   "execution_count": 10,
   "id": "4eb414c2",
   "metadata": {},
   "outputs": [],
   "source": [
    "def prediction(model):\n",
    "    y_true = []\n",
    "    y_pred = []\n",
    "\n",
    "    for i in os.listdir('./dataset_new/test/ny/'):\n",
    "        img = Image.open('./dataset_new/test/ny/' + i)\n",
    "        img = img.resize((256, 256))\n",
    "        img = np.array(img)\n",
    "        img = np.expand_dims(img, 0)\n",
    "\n",
    "        y_true.append(int(i.split('_')[0]))\n",
    "        y_pred.append(1 if model.predict(img) > 0.5 else 0)\n",
    "\n",
    "    print(classification_report(y_true, y_pred))\n",
    "    print()\n",
    "    print(confusion_matrix(y_true, y_pred))"
   ]
  },
  {
   "cell_type": "code",
   "execution_count": null,
   "id": "afc8a8c6",
   "metadata": {},
   "outputs": [
    {
     "name": "stdout",
     "output_type": "stream",
     "text": [
      "Found 1233 validated image filenames belonging to 2 classes.\n",
      "Found 215 validated image filenames belonging to 2 classes.\n",
      "Model: \"model\"\n",
      "_________________________________________________________________\n",
      " Layer (type)                Output Shape              Param #   \n",
      "=================================================================\n",
      " input_2 (InputLayer)        [(None, 256, 256, 3)]     0         \n",
      "                                                                 \n",
      " resnet50 (Functional)       (None, 8, 8, 2048)        23587712  \n",
      "                                                                 \n",
      " global_average_pooling2d (G  (None, 2048)             0         \n",
      " lobalAveragePooling2D)                                          \n",
      "                                                                 \n",
      " dense (Dense)               (None, 1)                 2049      \n",
      "                                                                 \n",
      "=================================================================\n",
      "Total params: 23,589,761\n",
      "Trainable params: 2,049\n",
      "Non-trainable params: 23,587,712\n",
      "_________________________________________________________________\n",
      "Epoch 1/20\n",
      " 3/39 [=>............................] - ETA: 1:32 - loss: 1.7680 - accuracy: 0.3958"
     ]
    }
   ],
   "source": [
    "df_train = prepare_df(\"train\")\n",
    "df_test = prepare_df(\"test\")\n",
    "train_datagen = get_datagen()\n",
    "test_datagen = get_datagen()\n",
    "train_generator = get_data_flow(train_datagen, df_train, \"train\")\n",
    "test_generator = get_data_flow(test_datagen, df_test, \"test\")\n",
    "model = get_model()\n",
    "model.fit(train_generator, epochs=20)\n",
    "prediction(model)\n",
    "\n"
   ]
  },
  {
   "cell_type": "code",
   "execution_count": 14,
   "id": "a232deca",
   "metadata": {},
   "outputs": [],
   "source": [
    "# #!/usr/bin/env python\n",
    "# # coding: utf-8\n",
    "\n",
    "# # In[27]:\n",
    "\n",
    "\n",
    "import os\n",
    "import cv2\n",
    "import numpy as np\n",
    "import pandas as pd\n",
    "from PIL import Image\n",
    "import tensorflow as tf\n",
    "from keras.applications.resnet import ResNet50\n",
    "from keras_preprocessing.image import ImageDataGenerator\n",
    "from sklearn.metrics import classification_report, confusion_matrix\n",
    "np.random.seed(4)\n",
    "\n",
    "\n",
    "# In[28]:\n",
    "\n",
    "\n",
    "# rename files\n",
    "# # get the files in the dataset_new/train/ny/yawn/ folder\n",
    "# for i in os.listdir('./dataset_new/test/ny/yawn/'):\n",
    "#     # get the path of the file\n",
    "#     path = './dataset_new/test/ny/yawn/' + i\n",
    "#     # get the name of the file\n",
    "#     name = i.split('.')[0]\n",
    "#     # get the path of the destination folder\n",
    "#     dest = './dataset_new/test/ny/'\n",
    "#     # # rename the file\n",
    "#     os.rename(path, dest + '1_' + name + '.jpg')\n",
    "\n",
    "\n",
    "# In[29]:\n",
    "\n",
    "\n",
    "def prepare_df(data_type):\n",
    "    path_link=\"./dataset_new/\" + data_type + \"/ny\"\n",
    "    yaw_no = []\n",
    "    IMG_SIZE = 256\n",
    "    face_cas_path=\"./haarcascades/haarcascade_frontalface_default.xml\"\n",
    "    for image in os.listdir(path_link):\n",
    "        class_num1 = image.split('_')[0]\n",
    "        image_array = cv2.imread(os.path.join(path_link, image), cv2.IMREAD_COLOR)\n",
    "        face_cascade = cv2.CascadeClassifier(face_cas_path)\n",
    "        faces = face_cascade.detectMultiScale(image_array, 1.3, 5)\n",
    "        for (x, y, w, h) in faces:\n",
    "            img = cv2.rectangle(image_array, (x, y), (x+w, y+h), (0, 255, 0), 2)\n",
    "            roi_color = img[y:y+h, x:x+w]\n",
    "            resized_array = cv2.resize(roi_color, (IMG_SIZE, IMG_SIZE))\n",
    "            yaw_no.append([resized_array, class_num1])\n",
    "    new_data = np.array(yaw_no)\n",
    "    X = []\n",
    "    y = []\n",
    "    for feature, label in new_data:\n",
    "        X.append(feature)\n",
    "        y.append(label)\n",
    "    return np.array(X, dtype=\"float32\"), np.array(y, dtype=\"float32\")\n",
    "\n",
    "\n",
    "# In[30]:\n",
    "\n",
    "\n",
    "def get_datagen():\n",
    "\n",
    "    datagen = ImageDataGenerator(\n",
    "        rescale=1.0/255.0,\n",
    "        rotation_range=20,\n",
    "        zoom_range=0.2,\n",
    "        horizontal_flip=True,\n",
    "    )\n",
    "    return datagen\n",
    "\n",
    "\n",
    "# In[31]:\n",
    "\n",
    "def get_model():\n",
    "\n",
    "    feature_extractor = ResNet50(weights='imagenet',\n",
    "                                 input_shape=(256, 256, 3),\n",
    "                                 include_top=False)\n",
    "\n",
    "    feature_extractor.trainable = False\n",
    "\n",
    "    input_ = tf.keras.Input(shape=(256, 256, 3))\n",
    "\n",
    "    x = feature_extractor(input_, training=False)\n",
    "\n",
    "    x = tf.keras.layers.GlobalAveragePooling2D()(x)\n",
    "\n",
    "    output_ = tf.keras.layers.Dense(1, activation='sigmoid')(x)\n",
    "\n",
    "    model = tf.keras.Model(input_, output_)\n",
    "\n",
    "    model.compile(optimizer='adam',\n",
    "                  loss='binary_crossentropy',\n",
    "                  metrics=['accuracy'])\n",
    "    return model\n",
    "\n",
    "\n",
    "# In[33]:\n",
    "\n",
    "\n",
    "def prediction(model):\n",
    "    y_true = []\n",
    "    y_pred = []\n",
    "\n",
    "    for i in os.listdir('./dataset_new/test/ny/'):\n",
    "        img = Image.open('./dataset_new/test/ny/' + i)\n",
    "        img = img.resize((256, 256))\n",
    "        img = np.array(img)\n",
    "        img = np.expand_dims(img, 0)\n",
    "\n",
    "        y_true.append(int(i.split('_')[0]))\n",
    "        y_pred.append(1 if model.predict(img) > 0.5 else 0)\n",
    "\n",
    "    print(classification_report(y_true, y_pred))\n",
    "    print()\n",
    "    print(confusion_matrix(y_true, y_pred))"
   ]
  },
  {
   "cell_type": "code",
   "execution_count": 15,
   "id": "edf5e646",
   "metadata": {},
   "outputs": [
    {
     "name": "stdout",
     "output_type": "stream",
     "text": [
      "(408, 256, 256, 3)\n"
     ]
    },
    {
     "name": "stderr",
     "output_type": "stream",
     "text": [
      "<ipython-input-14-103527a989f8>:53: VisibleDeprecationWarning: Creating an ndarray from ragged nested sequences (which is a list-or-tuple of lists-or-tuples-or ndarrays with different lengths or shapes) is deprecated. If you meant to do this, you must specify 'dtype=object' when creating the ndarray.\n",
      "  new_data = np.array(yaw_no)\n"
     ]
    }
   ],
   "source": [
    "\n",
    "X_train, y_train = prepare_df(\"train\")\n",
    "print(X_train.shape)\n"
   ]
  },
  {
   "cell_type": "code",
   "execution_count": 16,
   "id": "b26d601d",
   "metadata": {},
   "outputs": [
    {
     "name": "stderr",
     "output_type": "stream",
     "text": [
      "<ipython-input-14-103527a989f8>:53: VisibleDeprecationWarning: Creating an ndarray from ragged nested sequences (which is a list-or-tuple of lists-or-tuples-or ndarrays with different lengths or shapes) is deprecated. If you meant to do this, you must specify 'dtype=object' when creating the ndarray.\n",
      "  new_data = np.array(yaw_no)\n"
     ]
    }
   ],
   "source": [
    "X_test, y_test = prepare_df(\"test\")"
   ]
  },
  {
   "cell_type": "code",
   "execution_count": 17,
   "id": "4003d0f4",
   "metadata": {},
   "outputs": [],
   "source": [
    "train_datagen = get_datagen()\n",
    "test_datagen = get_datagen()\n",
    "\n",
    "model = get_model()"
   ]
  },
  {
   "cell_type": "code",
   "execution_count": null,
   "id": "1aeee56c",
   "metadata": {},
   "outputs": [
    {
     "name": "stdout",
     "output_type": "stream",
     "text": [
      "Epoch 1/20\n",
      "12/12 [==============================] - 30s 2s/step - loss: 0.7302 - accuracy: 0.4787\n",
      "Epoch 2/20\n",
      "12/12 [==============================] - 30s 3s/step - loss: 0.7235 - accuracy: 0.4973\n",
      "Epoch 3/20\n",
      "12/12 [==============================] - 38s 3s/step - loss: 0.7050 - accuracy: 0.4922\n",
      "Epoch 4/20\n",
      "12/12 [==============================] - 36s 3s/step - loss: 0.6938 - accuracy: 0.5133\n",
      "Epoch 5/20\n",
      "11/12 [==========================>...] - ETA: 3s - loss: 0.6974 - accuracy: 0.4593"
     ]
    }
   ],
   "source": [
    "model.fit(\n",
    "    train_datagen.flow(X_train, y_train, batch_size=32),\n",
    "    steps_per_epoch=len(X_train) // 32,\n",
    "    epochs=20)"
   ]
  },
  {
   "cell_type": "code",
   "execution_count": null,
   "id": "8f9a927a",
   "metadata": {},
   "outputs": [],
   "source": [
    "# train_generator = get_data_flow(train_datagen, df_train, \"train\")\n",
    "# test_generator = get_data_flow(test_datagen, df_test, \"test\")\n",
    "# model = get_model()\n",
    "# model.fit(train_generator, epochs=20)\n",
    "# prediction(model)\n"
   ]
  }
 ],
 "metadata": {
  "kernelspec": {
   "display_name": "Python 3",
   "language": "python",
   "name": "python3"
  },
  "language_info": {
   "codemirror_mode": {
    "name": "ipython",
    "version": 3
   },
   "file_extension": ".py",
   "mimetype": "text/x-python",
   "name": "python",
   "nbconvert_exporter": "python",
   "pygments_lexer": "ipython3",
   "version": "3.8.8"
  }
 },
 "nbformat": 4,
 "nbformat_minor": 5
}
